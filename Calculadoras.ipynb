{
  "nbformat": 4,
  "nbformat_minor": 0,
  "metadata": {
    "colab": {
      "provenance": [],
      "authorship_tag": "ABX9TyPtxyurSqeDeVgK/1Sj9yqy",
      "include_colab_link": true
    },
    "kernelspec": {
      "name": "python3",
      "display_name": "Python 3"
    },
    "language_info": {
      "name": "python"
    }
  },
  "cells": [
    {
      "cell_type": "markdown",
      "metadata": {
        "id": "view-in-github",
        "colab_type": "text"
      },
      "source": [
        "<a href=\"https://colab.research.google.com/github/erzdwin/Talento_Tech_IA/blob/main/Calculadoras.ipynb\" target=\"_parent\"><img src=\"https://colab.research.google.com/assets/colab-badge.svg\" alt=\"Open In Colab\"/></a>"
      ]
    },
    {
      "cell_type": "markdown",
      "source": [
        "### Ejemplo Calculadora Simple"
      ],
      "metadata": {
        "id": "F_EC5qwmARsS"
      }
    },
    {
      "cell_type": "code",
      "source": [
        "def suma(a, b):\n",
        "  return a + b\n",
        "\n",
        "def resta(a, b):\n",
        "  return a - b\n",
        "\n",
        "def multiplicacion(a, b):\n",
        "  return a * b\n",
        "\n",
        "def division(a, b):\n",
        "  if b != 0:\n",
        "    return a/b\n",
        "  else:\n",
        "    return \"Error: No se puede dividir por cero.\"\n",
        "\n",
        "def exponenciacion(a, b):\n",
        "  return a ** b\n",
        "\n",
        "def menu():\n",
        "  print(\"Seleccione una operación:\")\n",
        "  print(\"1. Suma\")\n",
        "  print(\"2. Resta\")\n",
        "  print(\"3. Multiplicación\")\n",
        "  print(\"4. División\")\n",
        "  print(\"5. Exponenciación\")\n",
        "  print(\"6. Salir\")\n",
        "\n",
        "while True:\n",
        "  menu()\n",
        "  opcion = input(\"Ingrese la opción que desea: \")\n",
        "\n",
        "  if opcion == '6':\n",
        "        print(\"¡Hasta una proxima operación!\")\n",
        "        break\n",
        "\n",
        "  num1 = float(input(\"Ingrese el primer número: \"))\n",
        "  num2 = float(input(\"Ingrese el segundo número: \"))\n",
        "\n",
        "  if opcion == '1':\n",
        "    print(\"Resultado:\", suma(num1, num2))\n",
        "  elif opcion == '2':\n",
        "    print(\"Resultado:\", resta(num1, num2))\n",
        "  elif opcion == '3':\n",
        "    print(\"Resultado:\", multiplicacion(num1, num2))\n",
        "  elif opcion == '4':\n",
        "    print(\"Resultado:\", division(num1, num2))\n",
        "  elif opcion == '5':\n",
        "    print(\"Resultado:\", exponenciacion(num1, num2))\n",
        "  else:\n",
        "    print(\"Opción inválida. Por favor, seleccione una opción válida.\")\n",
        "\n",
        "  print()"
      ],
      "metadata": {
        "colab": {
          "base_uri": "https://localhost:8080/"
        },
        "id": "Lhqb9A5kK5u8",
        "outputId": "7c3fbb5a-2d02-4226-82e3-4c6a9cd8da82"
      },
      "execution_count": null,
      "outputs": [
        {
          "output_type": "stream",
          "name": "stdout",
          "text": [
            "Seleccione una operación:\n",
            "1. Suma\n",
            "2. Resta\n",
            "3. Multiplicación\n",
            "4. División\n",
            "5. Exponenciación\n",
            "6. Salir\n",
            "Ingrese la opción que desea: 4\n",
            "Ingrese el primer número: 8\n",
            "Ingrese el segundo número: 2\n",
            "Resultado: 4.0\n",
            "\n",
            "Seleccione una operación:\n",
            "1. Suma\n",
            "2. Resta\n",
            "3. Multiplicación\n",
            "4. División\n",
            "5. Exponenciación\n",
            "6. Salir\n",
            "Ingrese la opción que desea: 5\n",
            "Ingrese el primer número: 8\n",
            "Ingrese el segundo número: 8\n",
            "Resultado: 16777216.0\n",
            "\n",
            "Seleccione una operación:\n",
            "1. Suma\n",
            "2. Resta\n",
            "3. Multiplicación\n",
            "4. División\n",
            "5. Exponenciación\n",
            "6. Salir\n",
            "Ingrese la opción que desea: 6\n",
            "¡Hasta una proxima operación!\n"
          ]
        }
      ]
    },
    {
      "cell_type": "markdown",
      "source": [
        "### Calculadora directa"
      ],
      "metadata": {
        "id": "4WYuclelNmiB"
      }
    },
    {
      "cell_type": "code",
      "source": [
        "def calculadora_directa():\n",
        " #Realiza operaciones básicas de suma, resta, multiplicación, división, exponenciación y raíz cuadrada.\n",
        "\n",
        "  while True:\n",
        "    operacion = input(\"Ingrese la operación (ejemplo: 2+3, 5*2, 4^2, sqrt(9)): \")\n",
        "\n",
        "    try:\n",
        "      resultado = eval(operacion)\n",
        "      print(\"Resultado:\", resultado)\n",
        "    except:\n",
        "      print(\"Error: Operación inválida.\")\n",
        "\n",
        "    continuar = input(\"¿Desea realizar otra operación? (si/no): \")\n",
        "    if continuar.lower() != 'si':\n",
        "      break\n",
        "\n",
        "if __name__ == \"__main__\":\n",
        "  calculadora_simple()"
      ],
      "metadata": {
        "colab": {
          "base_uri": "https://localhost:8080/"
        },
        "id": "0lUBhVo5IwlW",
        "outputId": "c6ff985c-9dfb-4293-c0bd-d5b1aa0af857"
      },
      "execution_count": null,
      "outputs": [
        {
          "name": "stdout",
          "output_type": "stream",
          "text": [
            "Ingrese la operación (ejemplo: 2+3, 5*2, 4^2, sqrt(9)): 1+5\n",
            "Resultado: 6\n",
            "¿Desea realizar otra operación? (si/no): si\n",
            "Ingrese la operación (ejemplo: 2+3, 5*2, 4^2, sqrt(9)): 9**2\n",
            "Resultado: 81\n",
            "¿Desea realizar otra operación? (si/no): no\n"
          ]
        }
      ]
    },
    {
      "cell_type": "markdown",
      "source": [
        "### Calculadora de operaciones compuestas"
      ],
      "metadata": {
        "id": "NgFux3tXyLIh"
      }
    },
    {
      "cell_type": "code",
      "source": [
        "def evaluar_expresión(expresión):\n",
        "  try:\n",
        "\n",
        "    resultado = eval(expresión)\n",
        "    return resultado\n",
        "  except:\n",
        "    return \"Error: Expresión inválida.\"\n",
        "\n",
        "def menu():\n",
        "  print(\"Calciuladora de polinomios\")\n",
        "  print(\"Ingrese la expresión del polinomio utilizando los operadores +, -, *, ** y ()\")\n",
        "  print(\"Ejemplo: ((3+2)/(4*8))\")\n",
        "  print(\"Para salir, ingrese 'salir'\")\n",
        "\n",
        "while True:\n",
        "  menu()\n",
        "  expresión = input(\"Ingrese la expresión del polinomio: \")\n",
        "\n",
        "  if expresión.lower() == 'salir':\n",
        "    break\n",
        "\n",
        "  resultado = evaluar_expresión(expresión)\n",
        "  print(\"Resultado:\", resultado)\n",
        "  print()\n"
      ],
      "metadata": {
        "colab": {
          "base_uri": "https://localhost:8080/"
        },
        "id": "hjx4FRDiOQAG",
        "outputId": "e5b80c14-c44f-4fc1-bcd4-b555b3b7a269"
      },
      "execution_count": null,
      "outputs": [
        {
          "name": "stdout",
          "output_type": "stream",
          "text": [
            "Calciuladora de polinomios\n",
            "Ingrese la expresión del polinomio utilizando los operadores +, -, *, ** y ()\n",
            "Ejemplo: ((3+2)/(4*8))\n",
            "Para salir, ingrese 'salir'\n",
            "Ingrese la expresión del polinomio: (4+5-6)/(3*8)\n",
            "Resultado: 0.125\n",
            "\n",
            "Calciuladora de polinomios\n",
            "Ingrese la expresión del polinomio utilizando los operadores +, -, *, ** y ()\n",
            "Ejemplo: ((3+2)/(4*8))\n",
            "Para salir, ingrese 'salir'\n",
            "Ingrese la expresión del polinomio: salir\n"
          ]
        }
      ]
    }
  ]
}