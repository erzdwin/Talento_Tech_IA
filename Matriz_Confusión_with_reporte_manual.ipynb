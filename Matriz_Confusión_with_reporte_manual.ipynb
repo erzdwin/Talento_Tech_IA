{
  "nbformat": 4,
  "nbformat_minor": 0,
  "metadata": {
    "colab": {
      "provenance": [],
      "authorship_tag": "ABX9TyOLQrbCRPIncaTxxJtN3J9i",
      "include_colab_link": true
    },
    "kernelspec": {
      "name": "python3",
      "display_name": "Python 3"
    },
    "language_info": {
      "name": "python"
    }
  },
  "cells": [
    {
      "cell_type": "markdown",
      "metadata": {
        "id": "view-in-github",
        "colab_type": "text"
      },
      "source": [
        "<a href=\"https://colab.research.google.com/github/erzdwin/Talento_Tech_IA/blob/main/Matriz_Confusi%C3%B3n_with_reporte_manual.ipynb\" target=\"_parent\"><img src=\"https://colab.research.google.com/assets/colab-badge.svg\" alt=\"Open In Colab\"/></a>"
      ]
    },
    {
      "cell_type": "code",
      "execution_count": null,
      "metadata": {
        "id": "F3brMy5CWukU"
      },
      "outputs": [],
      "source": [
        "from sklearn.metrics import confusion_matrix\n",
        "from sklearn.metrics import classification_report\n",
        "import seaborn as sns\n",
        "import matplotlib.pyplot as plt\n",
        "import random as rd\n",
        "import numpy as np"
      ]
    },
    {
      "cell_type": "code",
      "source": [
        "y_true = [0, 0, 0, 0, 0, 0, 0, 0, 0, 0, 0, 0, 0, 0, 0, 0, 0, 1, 0, 0, 0, 0, 0, 0, 1, 0, 0, 0, 1, 0,\n",
        "          0, 0, 1, 0, 1, 0, 0, 0, 0, 0, 0, 0, 0, 0, 0, 0, 0, 0, 0, 0, 0, 0, 0, 0, 0, 0, 0, 0, 0, 0,\n",
        "          0, 0, 0, 0, 0, 0, 0, 0, 0, 1, 0, 0, 0, 0, 0, 0, 0, 0, 0, 1, 0, 0, 0, 0, 0, 0, 0, 0, 0, 0,\n",
        "          0, 0, 0, 0, 1, 1, 0]\n",
        "\n",
        "y_pred = [1, 0, 0, 0, 0, 0, 0, 0, 0, 0, 0, 0, 1, 0, 0, 0, 0, 0, 1, 0, 0, 0, 0, 0, 1, 0, 1, 0, 0, 0,\n",
        "          0, 0, 0, 0, 0, 0, 0, 0, 0, 0, 0, 0, 1, 0, 0, 0, 0, 0, 0, 0, 0, 0, 1, 1, 0, 0, 0, 0, 0, 0,\n",
        "          1, 1, 0, 0, 0, 0, 1, 0, 0, 0, 0, 0, 0, 1, 0, 0, 0, 0, 1, 1, 0, 0, 0, 0, 0, 0, 1, 0, 0, 0,\n",
        "          0, 0, 0, 0, 0, 1, 1]\n"
      ],
      "metadata": {
        "id": "509qQ77fjYEC"
      },
      "execution_count": null,
      "outputs": []
    },
    {
      "cell_type": "code",
      "source": [
        "# Calcular la matriz de confusión\n",
        "cm = confusion_matrix(y_true, y_pred)\n",
        "\n",
        "# Visualizar la matriz de confusión\n",
        "sns.heatmap(cm, annot=True, fmt='d')\n",
        "plt.xlabel('Predicciones')\n",
        "plt.ylabel('Valores Reales')\n",
        "plt.show()"
      ],
      "metadata": {
        "colab": {
          "base_uri": "https://localhost:8080/",
          "height": 449
        },
        "id": "ea7EYlCkjd2n",
        "outputId": "1efe9488-9379-40e5-b020-80c67bf46eee"
      },
      "execution_count": null,
      "outputs": [
        {
          "output_type": "display_data",
          "data": {
            "text/plain": [
              "<Figure size 640x480 with 2 Axes>"
            ],
            "image/png": "[encoded data removed]"
          },
          "metadata": {}
        }
      ]
    },
    {
      "cell_type": "code",
      "source": [
        "report = classification_report(y_true, y_pred)\n",
        "print(report)"
      ],
      "metadata": {
        "colab": {
          "base_uri": "https://localhost:8080/"
        },
        "id": "pR6g_X1ZlVH8",
        "outputId": "1999f156-0226-4637-f10f-c5b2e034918d"
      },
      "execution_count": null,
      "outputs": [
        {
          "output_type": "stream",
          "name": "stdout",
          "text": [
            "              precision    recall  f1-score   support\n",
            "\n",
            "           0       0.93      0.84      0.88        88\n",
            "           1       0.18      0.33      0.23         9\n",
            "\n",
            "    accuracy                           0.79        97\n",
            "   macro avg       0.55      0.59      0.56        97\n",
            "weighted avg       0.86      0.79      0.82        97\n",
            "\n"
          ]
        }
      ]
    },
    {
      "cell_type": "markdown",
      "source": [
        "Calculo Manual de las formulas"
      ],
      "metadata": {
        "id": "DK7-kd-nmbTE"
      }
    },
    {
      "cell_type": "code",
      "source": [
        "#Accuracy = (TP + TN) / (TP + TN + FP + FN)\n",
        "accuarcy = (round((74 + 35) / (74 + 35 + 6 + 2), 2))\n",
        "accuarcy"
      ],
      "metadata": {
        "colab": {
          "base_uri": "https://localhost:8080/"
        },
        "id": "VCZXhH6gmh6q",
        "outputId": "a555e065-f67a-4f87-df61-77745ba6239c"
      },
      "execution_count": null,
      "outputs": [
        {
          "output_type": "execute_result",
          "data": {
            "text/plain": [
              "0.93"
            ]
          },
          "metadata": {},
          "execution_count": 61
        }
      ]
    },
    {
      "cell_type": "code",
      "source": [
        "#Precision = TP / (TP + FP)\n",
        "Precision= (round(74 / (74 + 6), 3))\n",
        "Precision"
      ],
      "metadata": {
        "colab": {
          "base_uri": "https://localhost:8080/"
        },
        "id": "Z0H_bbz4mnE4",
        "outputId": "a99e492e-7a05-4d16-b9df-0d088ccfa878"
      },
      "execution_count": null,
      "outputs": [
        {
          "output_type": "execute_result",
          "data": {
            "text/plain": [
              "0.925"
            ]
          },
          "metadata": {},
          "execution_count": 59
        }
      ]
    },
    {
      "cell_type": "markdown",
      "source": [
        "TN (Verdaderos Negativos): 74\n",
        "FN (Falsos Negativos): 2"
      ],
      "metadata": {
        "id": "NRfbnDkwBC5M"
      }
    },
    {
      "cell_type": "code",
      "source": [
        "Precision2= (round(74 / (74 + 2), 3))\n",
        "Precision2"
      ],
      "metadata": {
        "colab": {
          "base_uri": "https://localhost:8080/"
        },
        "id": "jXUVHLXFANoY",
        "outputId": "c200a7c0-3f22-4d45-aa34-7820cea7fc44"
      },
      "execution_count": null,
      "outputs": [
        {
          "output_type": "execute_result",
          "data": {
            "text/plain": [
              "0.974"
            ]
          },
          "metadata": {},
          "execution_count": 2
        }
      ]
    },
    {
      "cell_type": "code",
      "source": [
        "#Recall = TP / (TP + FN)\n",
        "Recall= (round(74 / (74 + 14), 2))\n",
        "Recall"
      ],
      "metadata": {
        "colab": {
          "base_uri": "https://localhost:8080/"
        },
        "id": "LgIBHw7ImrQo",
        "outputId": "a3dfbc99-96d3-4169-8d8d-f242fe6875b7"
      },
      "execution_count": null,
      "outputs": [
        {
          "output_type": "execute_result",
          "data": {
            "text/plain": [
              "0.84"
            ]
          },
          "metadata": {},
          "execution_count": 71
        }
      ]
    },
    {
      "cell_type": "code",
      "source": [
        "Recall2= (round(74 / (74 + 3), 2))\n",
        "Recall2"
      ],
      "metadata": {
        "id": "_dx11mQnBdT1"
      },
      "execution_count": null,
      "outputs": []
    },
    {
      "cell_type": "code",
      "source": [
        "#F1-score = 2 * (Precision * Recall) / (Precision + Recall)\n",
        "f1_score= (round(2 * (Precision * Recall) / (Precision + Recall), 2)) * 100\n",
        "f1_score"
      ],
      "metadata": {
        "colab": {
          "base_uri": "https://localhost:8080/"
        },
        "id": "tQjE8ZJjnQz6",
        "outputId": "1d453c17-717b-488f-b7d8-62f4f4e393f8"
      },
      "execution_count": null,
      "outputs": [
        {
          "output_type": "execute_result",
          "data": {
            "text/plain": [
              "88.0"
            ]
          },
          "metadata": {},
          "execution_count": 72
        }
      ]
    },
    {
      "cell_type": "code",
      "source": [
        "support0= 74 + 14\n",
        "support0"
      ],
      "metadata": {
        "colab": {
          "base_uri": "https://localhost:8080/"
        },
        "id": "alQAW3RLsDMx",
        "outputId": "fc928332-3432-46b8-a1c2-78b7f515a448"
      },
      "execution_count": null,
      "outputs": [
        {
          "output_type": "execute_result",
          "data": {
            "text/plain": [
              "88"
            ]
          },
          "metadata": {},
          "execution_count": 68
        }
      ]
    },
    {
      "cell_type": "code",
      "source": [
        "support1= 3 + 6\n",
        "support1"
      ],
      "metadata": {
        "colab": {
          "base_uri": "https://localhost:8080/"
        },
        "id": "SByADav4sTCW",
        "outputId": "4293fe88-b0e3-46a0-b0a8-0eb02a6c00b1"
      },
      "execution_count": null,
      "outputs": [
        {
          "output_type": "execute_result",
          "data": {
            "text/plain": [
              "9"
            ]
          },
          "metadata": {},
          "execution_count": 69
        }
      ]
    },
    {
      "cell_type": "code",
      "source": [
        "support_total= support0 + support1\n",
        "support_total"
      ],
      "metadata": {
        "colab": {
          "base_uri": "https://localhost:8080/"
        },
        "id": "4R6JmFhTsiy2",
        "outputId": "767ef374-d217-424a-bca0-0e34893a2d55"
      },
      "execution_count": null,
      "outputs": [
        {
          "output_type": "execute_result",
          "data": {
            "text/plain": [
              "97"
            ]
          },
          "metadata": {},
          "execution_count": 70
        }
      ]
    }
  ]
}