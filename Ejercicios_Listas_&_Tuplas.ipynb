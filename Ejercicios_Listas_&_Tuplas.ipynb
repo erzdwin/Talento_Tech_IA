{
  "nbformat": 4,
  "nbformat_minor": 0,
  "metadata": {
    "colab": {
      "provenance": [],
      "authorship_tag": "ABX9TyMyEOGF8emg64XxQH2s1xZy",
      "include_colab_link": true
    },
    "kernelspec": {
      "name": "python3",
      "display_name": "Python 3"
    },
    "language_info": {
      "name": "python"
    }
  },
  "cells": [
    {
      "cell_type": "markdown",
      "metadata": {
        "id": "view-in-github",
        "colab_type": "text"
      },
      "source": [
        "<a href=\"https://colab.research.google.com/github/erzdwin/Talento_Tech_IA/blob/main/Ejercicios_Listas_%26_Tuplas.ipynb\" target=\"_parent\"><img src=\"https://colab.research.google.com/assets/colab-badge.svg\" alt=\"Open In Colab\"/></a>"
      ]
    },
    {
      "cell_type": "markdown",
      "source": [
        "###Ejercicios Básicos con Listas y Tuplas"
      ],
      "metadata": {
        "id": "JJilLeddr_-e"
      }
    },
    {
      "cell_type": "code",
      "source": [
        "num_pares = [2, 4, 6, 8, 10] #Lista\n",
        "num_impares = (1, 3, 5, 7, 9) #Tupla\n",
        "\n",
        "print(num_pares)\n",
        "print(num_impares)\n",
        "\n",
        "num_pares.append(12)\n",
        "print(num_pares)\n",
        "\n",
        "num_impares.append(11)\n",
        "print(num_impares)\n",
        "\n",
        "num_pares[2]\n",
        "\n",
        "num_pares[3] + num_impares[2]"
      ],
      "metadata": {
        "colab": {
          "base_uri": "https://localhost:8080/",
          "height": 263
        },
        "id": "qovg08hjiztj",
        "outputId": "5effec5c-c7ff-4e10-f125-c137a5cd7eab"
      },
      "execution_count": null,
      "outputs": [
        {
          "output_type": "stream",
          "name": "stdout",
          "text": [
            "[2, 4, 6, 8, 10]\n",
            "(1, 3, 5, 7, 9)\n",
            "[2, 4, 6, 8, 10, 12]\n"
          ]
        },
        {
          "output_type": "error",
          "ename": "AttributeError",
          "evalue": "'tuple' object has no attribute 'append'",
          "traceback": [
            "\u001b[0;31m---------------------------------------------------------------------------\u001b[0m",
            "\u001b[0;31mAttributeError\u001b[0m                            Traceback (most recent call last)",
            "\u001b[0;32m<ipython-input-4-673d811b9e8b>\u001b[0m in \u001b[0;36m<cell line: 10>\u001b[0;34m()\u001b[0m\n\u001b[1;32m      8\u001b[0m \u001b[0mprint\u001b[0m\u001b[0;34m(\u001b[0m\u001b[0mnum_pares\u001b[0m\u001b[0;34m)\u001b[0m\u001b[0;34m\u001b[0m\u001b[0;34m\u001b[0m\u001b[0m\n\u001b[1;32m      9\u001b[0m \u001b[0;34m\u001b[0m\u001b[0m\n\u001b[0;32m---> 10\u001b[0;31m \u001b[0mnum_impares\u001b[0m\u001b[0;34m.\u001b[0m\u001b[0mappend\u001b[0m\u001b[0;34m(\u001b[0m\u001b[0;36m11\u001b[0m\u001b[0;34m)\u001b[0m\u001b[0;34m\u001b[0m\u001b[0;34m\u001b[0m\u001b[0m\n\u001b[0m\u001b[1;32m     11\u001b[0m \u001b[0mprint\u001b[0m\u001b[0;34m(\u001b[0m\u001b[0mnum_impares\u001b[0m\u001b[0;34m)\u001b[0m\u001b[0;34m\u001b[0m\u001b[0;34m\u001b[0m\u001b[0m\n\u001b[1;32m     12\u001b[0m \u001b[0;34m\u001b[0m\u001b[0m\n",
            "\u001b[0;31mAttributeError\u001b[0m: 'tuple' object has no attribute 'append'"
          ]
        }
      ]
    },
    {
      "cell_type": "markdown",
      "source": [
        "###Obtener la media o promedio de una lista. #Ejemplo con notas"
      ],
      "metadata": {
        "id": "HNoDFxaDsNLQ"
      }
    },
    {
      "cell_type": "code",
      "source": [
        "Notas = [4.5, 5, 3, 4, 2.5]\n",
        "\n",
        "suma = sum(Notas)\n",
        "\n",
        "numero_elementos = len(Notas)\n",
        "\n",
        "media = suma / numero_elementos\n",
        "\n",
        "print(media)"
      ],
      "metadata": {
        "colab": {
          "base_uri": "https://localhost:8080/"
        },
        "id": "HT8M2qTtka6W",
        "outputId": "9cc8a557-c074-4582-cdf1-af22fad2a965"
      },
      "execution_count": null,
      "outputs": [
        {
          "output_type": "stream",
          "name": "stdout",
          "text": [
            "3.8\n"
          ]
        }
      ]
    },
    {
      "cell_type": "markdown",
      "source": [
        "###Ejercicio combinacion de listas y tuplas #Calcular precio de productos"
      ],
      "metadata": {
        "id": "FD2CMEL7sZs1"
      }
    },
    {
      "cell_type": "code",
      "execution_count": null,
      "metadata": {
        "colab": {
          "base_uri": "https://localhost:8080/"
        },
        "id": "qhkDqr1UCFWs",
        "outputId": "e5d099ee-9c90-4c07-dc7d-9a0a48c6b42d"
      },
      "outputs": [
        {
          "output_type": "stream",
          "name": "stdout",
          "text": [
            "[('Manzana', 1000), ('Pera', 1500), ('Naranja', 800)]\n",
            "[('Bolsa de leche', 1000), ('Yogur', 1500), ('Queso', 800)]\n",
            "Manzana 1000\n",
            "Pera 1500\n",
            "Naranja 800\n",
            "Bolsa de leche 1000\n",
            "Yogur 1500\n",
            "Queso 800\n",
            "\n",
            "La suma del precio de sus productos es: 1800\n"
          ]
        }
      ],
      "source": [
        "#Tuplas de frutas y precios\n",
        "producto1= (\"Manzana\", 1000)\n",
        "producto2= (\"Pera\", 1500)\n",
        "producto3= (\"Naranja\", 800)\n",
        "\n",
        "#Tuplas de productos lacteos y precios\n",
        "producto4= (\"Bolsa de leche\", 1000)\n",
        "Producto5= (\"Yogur\", 1500)\n",
        "Producto6= (\"Queso\", 800)\n",
        "\n",
        "lista_frutas = [producto1, producto2, producto3]\n",
        "lista_lacteos = [producto4, Producto5, Producto6]\n",
        "\n",
        "print(lista_frutas)\n",
        "print(lista_lacteos)\n",
        "\n",
        "for producto, precio in lista_frutas:\n",
        "    print(producto, precio)\n",
        "for producto, precio in lista_lacteos:\n",
        "    print(producto, precio)\n",
        "\n",
        "#Sumar los precios de precios de productos especificos\n",
        "\n",
        "precio_fruta = lista_frutas[2][1]\n",
        "precio_lacteo = lista_lacteos[0][1]\n",
        "\n",
        "suma_precios = precio_fruta + precio_lacteo\n",
        "print(f\"\\nLa suma del precio de sus productos es: {suma_precios}\")\n",
        "\n",
        "\n",
        "\n"
      ]
    }
  ]
}