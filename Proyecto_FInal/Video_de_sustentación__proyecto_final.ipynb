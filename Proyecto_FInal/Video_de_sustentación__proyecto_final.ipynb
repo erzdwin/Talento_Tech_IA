{
  "nbformat": 4,
  "nbformat_minor": 0,
  "metadata": {
    "colab": {
      "provenance": []
    },
    "kernelspec": {
      "name": "python3",
      "display_name": "Python 3"
    },
    "language_info": {
      "name": "python"
    }
  },
  "cells": [
    {
      "cell_type": "markdown",
      "source": [
        "## Enlace video de sustentación del proyecto final\n",
        "\n",
        "### Youtube: https://youtu.be/pZuGRDCICHs"
      ],
      "metadata": {
        "id": "gy1u8bHG1DpU"
      }
    }
  ]
}