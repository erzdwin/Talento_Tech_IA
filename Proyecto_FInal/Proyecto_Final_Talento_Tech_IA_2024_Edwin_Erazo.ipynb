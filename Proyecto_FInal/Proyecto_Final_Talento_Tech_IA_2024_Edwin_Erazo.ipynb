{
  "nbformat": 4,
  "nbformat_minor": 0,
  "metadata": {
    "colab": {
      "provenance": []
    },
    "kernelspec": {
      "name": "python3",
      "display_name": "Python 3"
    },
    "language_info": {
      "name": "python"
    }
  },
  "cells": [
    {
      "cell_type": "markdown",
      "source": [
        "# Corazón Seguro: Clasificación de Enfermedades Cardíacas mediante Regresión Logística y Machine Learning"
      ],
      "metadata": {
        "id": "s7sPAOJijUbb"
      }
    },
    {
      "cell_type": "markdown",
      "source": [
        "# 1. Introducción"
      ],
      "metadata": {
        "id": "phG-_zh8jneL"
      }
    },
    {
      "cell_type": "markdown",
      "source": [
        "Las enfermedades cardiovasculares (ECV) se mantienen como una de las principales causas de muerte en el mundo. Su detección temprana es crucial para un tratamiento eficaz y para mejorar la calidad de vida de los pacientes. Este proyecto busca contribuir a este desafío mediante la aplicación de técnicas de Machine Learning para la clasificación del riesgo de ECV.\n",
        "\n",
        "Utilizando dos conjuntos de datos, uno pequeño y balanceado (Heart_ds) y otro grande y desbalanceado (Heart_ds_big), este trabajo explora el rendimiento de tres modelos de Machine Learning: Regresión Logística, Clasificador MLP (Red Neuronal) y una Red Neuronal Manual implementada con TensorFlow/Keras. El objetivo principal es desarrollar un modelo predictivo que, a partir de variables como antecedentes médicos, factores demográficos y hábitos de vida, pueda clasificar con precisión la probabilidad de que un paciente desarrolle una enfermedad cardíaca.\n",
        "\n",
        "**El proyecto se divide en las siguientes etapas:**\n",
        "\n",
        "* Análisis exploratorio de los datos: Se examinan las características principales de los conjuntos de datos, incluyendo estadísticas descriptivas, distribuciones y correlaciones entre variables.\n",
        "\n",
        "* Preprocesamiento de los datos: Se aborda el desbalanceo del conjunto de datos 'Heart_ds_big' mediante la técnica de submuestreo (undersampling).\n",
        "\n",
        "* Entrenamiento y evaluación de los modelos: Se entrenan los tres modelos de Machine Learning mencionados y se evalúa su desempeño utilizando métricas como la precisión, la matriz de confusión, el valor F1 y la curva ROC.\n",
        "\n",
        "* Comparación y selección del mejor modelo: Se comparan los resultados obtenidos por cada modelo para determinar cuál ofrece el mejor rendimiento para la clasificación del riesgo de ECV.\n",
        "\n",
        "A través de este proceso, se busca brindar una herramienta efectiva y accesible para apoyar la toma de decisiones clínicas, fomentar la prevención y contribuir a una mejor atención de las enfermedades cardíacas."
      ],
      "metadata": {
        "id": "e8blIp1m6gft"
      }
    },
    {
      "cell_type": "markdown",
      "source": [
        "#2.   Planteamiento del Problema"
      ],
      "metadata": {
        "id": "d6iQ0nIejlZr"
      }
    },
    {
      "cell_type": "markdown",
      "source": [
        "En la actualidad, las enfermedades cardiovasculares representan una de las principales causas de mortalidad a nivel mundial, lo que resalta la necesidad urgente de estrategias que permitan su identificación temprana y prevención. Factores como el sedentarismo, la dieta poco saludable, el estrés y predisposiciones genéticas contribuyen a un incremento en el número de personas afectadas.\n",
        "\n",
        "Aunque los avances en la medicina han facilitado el diagnóstico de estas condiciones, muchas veces la detección ocurre en etapas avanzadas, cuando las opciones de tratamiento son más limitadas y los riesgos son mayores. Esto plantea un desafío tanto para los sistemas de salud como para los individuos, quienes pueden beneficiarse significativamente de herramientas que permitan predecir la probabilidad de desarrollar enfermedades cardíacas antes de que se manifiesten.\n",
        "\n",
        "En este contexto, la implementación de modelos predictivos mediante técnicas de machine learning, como la regresión logística, ofrece una solución prometedora. Esta técnica permite clasificar pacientes según su probabilidad de padecer enfermedades cardíacas, analizando variables clave como edad, presión arterial, niveles de colesterol, hábitos de vida, entre otros.\n",
        "\n",
        "El desarrollo de este proyecto busca abordar el problema de la detección tardía mediante un modelo basado en regresión logística. La meta es proporcionar una herramienta efectiva y accesible que apoye la toma de decisiones clínicas y fomente la prevención, contribuyendo a una mejor calidad de vida para los pacientes y a una optimización de los recursos médicos."
      ],
      "metadata": {
        "id": "zoE0iM9Vju7u"
      }
    },
    {
      "cell_type": "markdown",
      "source": [
        "#3. Objetivos"
      ],
      "metadata": {
        "id": "19S2LMXPj1ys"
      }
    },
    {
      "cell_type": "markdown",
      "source": [
        "#Objetivo General:\n",
        "Desarrollar un modelo predictivo basado en regresión logística para clasificar el riesgo de enfermedades cardíacas en pacientes, utilizando variables relevantes como antecedentes médicos, factores demográficos y hábitos de vida, con el fin de contribuir a su detección temprana y a la toma de decisiones clínicas informadas.\n",
        "\n",
        "#Objetivos Específicos\n",
        "* Identificar y seleccionar un conjunto de datos confiable y relevante que incluya variables significativas para el análisis y la predicción de enfermedades cardíacas.\n",
        "*Implementar y ajustar un modelo de regresión logística que permita clasificar con precisión la probabilidad de que un paciente desarrolle una enfermedad cardíaca.\n",
        "* Evaluar el desempeño del modelo mediante métricas como la precisión, sensibilidad y especificidad, para garantizar su eficacia en la identificación de riesgos."
      ],
      "metadata": {
        "id": "V1ChUmZhj0PP"
      }
    },
    {
      "cell_type": "markdown",
      "source": [
        "# 4. Machine Learning Model"
      ],
      "metadata": {
        "id": "hk7Gmd9CkRwc"
      }
    },
    {
      "cell_type": "markdown",
      "source": [
        "Los modelos usados en los notebooks del proyecto son:\n",
        "\n",
        "\n",
        "\n",
        "1.   Logistic Regression\n",
        "2.   MLP Classifier\n",
        "3. tf.keras.Sequential\n",
        "\n"
      ],
      "metadata": {
        "id": "-avTlBthkWX2"
      }
    },
    {
      "cell_type": "markdown",
      "source": [
        "# 5. Datasets Utilizados"
      ],
      "metadata": {
        "id": "I582pzCqlQRV"
      }
    },
    {
      "cell_type": "markdown",
      "source": [
        "Para este proyecto se usaron dos datasets de diferentes tamaños para evaluar el rendimiento de los modelos de clasificiación con diferentes densidades de datos:\n",
        "\n",
        "1. Dataset grande (Heart_ds_big): Contiene 31979 datos y 18 columnas.\n",
        "Dataset tomado de Kaggle: https://www.kaggle.com/datasets/opeyemiawe/heart-2020\n",
        "\n",
        "2. Dataset pequeño (Heart_ds): Contiene 918 datos y 12 Columnas\n",
        "Dataset tomado de Kaggle: https://www.kaggle.com/datasets/mexwell/heart-disease-dataset/data"
      ],
      "metadata": {
        "id": "wgpdVXCelU7Y"
      }
    },
    {
      "cell_type": "markdown",
      "source": [
        "#6. Enlaces de los notebooks en los que se realizo el proyecto\n",
        "\n",
        "Para la realización del proyecto y teniendo dos datasets me parece una mejor practica realizar los ejercicios en NoteBooks diferentes para evitar el cruce de variables:\n",
        "\n",
        "* Regresión Logistica con el Dataset Heart_ds (918 datos): https://github.com/erzdwin/Talento_Tech_IA/blob/main/Proyecto_FInal/Regression_Logistica_Dataset_Peque%C3%B1o_918_datos.ipynb\n",
        "\n",
        "* Regresión Logistica con el Dataset Heart_ds (319795 datos): https://github.com/erzdwin/Talento_Tech_IA/blob/main/Proyecto_FInal/Regression_Logistica_Dataset_Grande_319795_datos.ipynb"
      ],
      "metadata": {
        "id": "PwIyJFrhxdez"
      }
    },
    {
      "cell_type": "markdown",
      "source": [
        "#7. Resumen del paso a paso del proyecto"
      ],
      "metadata": {
        "id": "zEahZdZsx8Wh"
      }
    },
    {
      "cell_type": "markdown",
      "source": [
        "## 7.1. Análisis exploratorio de datos\n",
        "\n",
        "Se exploran estadísticas descriptivas, distribuciones de datos y correlaciones para ambos conjuntos de datos. Se utilizan visualizaciones como histogramas y diagramas de dispersión para obtener información.\n",
        "\n",
        "El análisis exploratorio de datos (EDA) del dataset Heart_ds (918 registros) y Heart_ds_big (319,795 registros) reveló características clave de ambos conjuntos. Heart_ds es compacto y bien estructurado, sin datos faltantes y con 12 columnas que incluyen variables numéricas (edad, presión arterial, colesterol) y categóricas (sexo, tipo de dolor en el pecho). La distribución de su variable objetivo, \"HeartDisease\", mostró un leve desbalance. Las correlaciones entre variables fueron en su mayoría débiles o moderadas, con relaciones destacadas entre factores de estilo de vida (como fumar y diabetes) y la enfermedad cardíaca. Los gráficos de dispersión sugirieron posibles vínculos entre la edad, la presión arterial en reposo y la depresión del ST inducida por el ejercicio con la presencia de enfermedades.\n",
        "\n",
        "Por otro lado, Heart_ds_big, más extenso y diverso, incluyó 18 columnas adicionales como IMC, salud física y mental, y tiempo de sueño, sin datos faltantes. Este dataset presentó un desbalance significativo en \"HeartDisease\", con muchos más casos de \"No\" (sin enfermedad cardíaca). Las correlaciones también fueron débiles en su mayoría, pero se detectaron relaciones entre la edad, el historial de diabetes, los derrames cerebrales y la enfermedad cardíaca. Los gráficos de dispersión indicaron posibles relaciones entre el IMC y la salud física con la presencia de enfermedades.\n",
        "\n",
        "En conjunto, el EDA de ambos datasets permitió identificar patrones y problemáticas como el desbalance de clases en Heart_ds_big, lo que fue crucial para el diseño y ajuste de los modelos predictivos utilizados en este proyecto."
      ],
      "metadata": {
        "id": "eRzXCfd_xT5H"
      }
    },
    {
      "cell_type": "markdown",
      "source": [
        "##7.2. Entrenamiento y Evaluación del Modelo de Regresión Logística"
      ],
      "metadata": {
        "id": "PA0GZ00JzQfE"
      }
    },
    {
      "cell_type": "markdown",
      "source": [
        "El proceso comenzó con la división de los datos en conjuntos de entrenamiento y prueba, asegurando una separación adecuada para evaluar el rendimiento de los modelos. Posteriormente, se entrenó un modelo de regresión logística, cuyo desempeño se evaluó mediante métricas clave como la precisión, la matriz de confusión y la curva ROC, lo que permitió medir tanto la efectividad global del modelo como su capacidad para distinguir entre clases. Adicionalmente, se generó un histograma de errores para analizar las discrepancias entre las predicciones y los valores reales, identificando áreas donde el modelo podría mejorar.\n",
        "\n",
        "**Resultados de la Regresión Logística:**\n",
        "\n",
        "* Dataset Heart_ds (918 registros, balanceado):\n",
        "\n",
        "- El modelo de Regresión Logística entrenado con este dataset mostró un buen rendimiento general, con una precisión (accuracy) del 87%.\n",
        "\n",
        "- Las métricas de la matriz de confusión, la curva ROC y el histograma de errores indicaron un buen balance entre precisión y capacidad para detectar casos positivos (enfermedad cardíaca).\n",
        "\n",
        "- En particular, el valor F1-score fue de 0.85 para la clase 0 (sin enfermedad) y 0.88 para la clase 1 (con enfermedad), lo que indica un buen rendimiento para ambas clases.\n",
        "\n",
        "![CM_1.png](data:image/png;base64,iVBORw0KGgoAAAANSUhEUgAAApcAAAH5CAYAAADUehUmAAAAOXRFWHRTb2Z0d2FyZQBNYXRwbG90bGliIHZlcnNpb24zLjguMCwgaHR0cHM6Ly9tYXRwbG90bGliLm9yZy81sbWrAAAACXBIWXMAAA9hAAAPYQGoP6dpAAAV3ElEQVR4nO3de3CV9ZnA8edwSVAuEQEJUCjeQN1uAUHjDa1K1WpFt61ub9ZLu1RbqYLYlrVbq9OKHe8Irheqtrq1dDtqbWvVkZW1tbggCLqKCopyEQIRJAYhRjj7h2s6KYgGHzg1+XxmMuP5/d7zzpOZTPzmPee8FIrFYjEAACBBm1IPAABAyyEuAQBIIy4BAEgjLgEASCMuAQBIIy4BAEgjLgEASCMuAQBI067UA7xrwHcfKPUIAKmeuuy4Uo8AkKrDByhHVy4BAEgjLgEASCMuAQBIIy4BAEgjLgEASCMuAQBIIy4BAEgjLgEASCMuAQBIIy4BAEgjLgEASCMuAQBIIy4BAEgjLgEASCMuAQBIIy4BAEgjLgEASCMuAQBIIy4BAEgjLgEASCMuAQBIIy4BAEgjLgEASCMuAQBIIy4BAEgjLgEASCMuAQBIIy4BAEgjLgEASCMuAQBIIy4BAEgjLgEASCMuAQBIIy4BAEgjLgEASCMuAQBIIy4BAEgjLgEASCMuAQBIIy4BAEgjLgEASCMuAQBIIy4BAEgjLgEASCMuAQBIIy4BAEgjLgEASCMuAQBIIy4BAEgjLgEASCMuAQBIIy4BAEgjLgEASCMuAQBIIy4BAEgjLgEASCMuAQBIIy4BAEgjLgEASCMuAQBIIy4BAEgjLgEASCMuAQBIIy4BAEgjLgEASCMuAQBIIy4BAEgjLgEASCMuAQBIIy4BAEgjLgEASCMuAQBIIy4BAEgjLgEASCMuAQBIIy4BAEgjLgEASCMuAQBIIy4BAEgjLgEASCMuAQBIIy4BAEgjLgEASCMuAQBIIy4BAEgjLgEASCMuAQBIIy4BAEgjLgEASCMuAQBIIy4BAEgjLgEASCMuAQBIIy4BAEgjLgEASCMuAQBIIy4BAEgjLgEASCMuAQBIIy4BAEgjLgEASCMuAQBIIy4BAEgjLgEASCMuAQBIIy4BAEgjLgEASCMuAQBIIy4BAEgjLgEASNOu1ANAtjaFiNGf3itG7t87enQuj5W19XH3E8vihmkvNjluz906xrjjB8aBu3eNtm0L8WL1ujj3jidj+esbSjQ5wJbNfmJW3H7rz2L+s/8bq1atimsmTo6jjh4RERENDQ0xaeK18ec/PRpLly6Jzp06RdXBh8R5Yy6I3XbrWeLJaY3EJS3OqE/tEV8+uF98b+rTsaC6Lj7xsS4x4dR/jDc2vB13PPZKRET03XWn+OU5VfGbWUtj4kMLom7D27F3Zaeob9hU4ukBNrd+/ZsxcODAOPlzn4+x553bZG/Dhg3x3PxnY9TZ58TAgftEbW1t/HTCT+K8c8+Ju359d4kmpjUTl7Q4Q/rvEg8/szKmP7cqIiKWrVkfnx3cKz7Zt6LxmLHHDYhHn1sVV9z/QuPaktXrd/isAB/EYcOPiMOGH7HFvc6dO8dNU25rsjb+on+Lr3zxlFj+6qvRq3fvHTEiNGp2XNbU1MStt94aM2bMiBUrVkRERGVlZRxyyCFxxhlnRI8ePdKHhOZ48uXX49SqvtG/+87xcs2bsU+vzjG0f9eY8PvnIiKiUIg4Yt8eMWX6ovjZ14fFfn06x9LV6+OmR16Kh59ZWeLpAT68urq6KBQK0blLl1KPQivUrLicNWtWHHvssbHzzjvHiBEjYsCAARERUV1dHRMnTozLL788HnzwwRg2bNhWz1NfXx/19fVN1ja9/Va0aVfWzPFhczdNfyk6dWgXD4wbHhuLxWhbKMQ1Dy6I3z25PCIiunUsi07l7WLUkbvHtQ8uiCvvfz6GD+wek04bEqfdPDNmvbSmxN8BwLarr6+Pa6++Mj5z/AnRqVOnUo9DK9SsuBw9enSccsopceONN0ahUGiyVywW4+yzz47Ro0fHjBkztnqeCRMmxCWXXNJkbddDvhLdDv1qc8aBLTr+k5Vx4pBeccFd82JBdV3s27tL/OuJ+8TK2g1xz+xXo02bd352pz2zMm7/0zvvwZy//I0Y0r9rfOmgfuIS+MhqaGiIC8eeF8ViMS764SXv/wTYDpp1K6J58+bFmDFjNgvLiIhCoRBjxoyJuXPnvu95xo8fH2vXrm3y1bXq1OaMAu/puycMjJsfWRR/mLciXlhRF7+d82rc/qeX45tH7hEREWvWvRUNGzfFwuq6Js97sboueu3SoRQjA3xoDQ0NceEF58fyV1+Nm6bc6qolJdOsK5eVlZUxc+bM2Geffba4P3PmzOjZ8/1ve1BeXh7l5eVN1rwkTpYO7dvGpmKxydqmYjT+UdSwsRhPL1kbe/To2OSY3Xt0jFfX+FAP8NHzblgufuWVmHLbL2KXXbqWeiRasWbF5bhx42LUqFExe/bsOProoxtDsrq6OqZNmxa33HJLXHnlldtlUPigHpm/Ks45as9Y/vqGWFBdF/v17hxnDu8fv5m1tPGYn/33orjmK4Nj1qI18fiLq+Pwgd3jyH17xGk3zSzh5ABb9ua6dbF48eLGx8uWLo3n5s+PioqK6N6jR4wb852YP//ZuH7yTbFp48aoWfXO3TIqKiqifZmLN+xYhWLxby7xvI+pU6fGNddcE7Nnz46NGzdGRETbtm1j6NChMXbs2Dj11G17eXvAdx/YpufB3+pY3jbOO2bv+PQneka3TmWxsrY+fj93eUx+eGE0bPzrj/vnh/WJbx61R1RWdIhFq9bFxIcWxrRnfVqcPE9ddlypR6CFmDXzf+IbZ35ts/WRJ/1TnP3tc+P4Y47e4vOm3PaLOODAqu09Hq1Ihw9wWbLZcfmuhoaGqKmpiYiI7t27R/v27bflNI3EJdDSiEugpfkgcbnNN1Fv37599OrVa1ufDgBAC9SsT4sDAMDWiEsAANKISwAA0ohLAADSiEsAANKISwAA0ohLAADSiEsAANKISwAA0ohLAADSiEsAANKISwAA0ohLAADSiEsAANKISwAA0ohLAADSiEsAANKISwAA0ohLAADSiEsAANKISwAA0ohLAADSiEsAANKISwAA0ohLAADSiEsAANKISwAA0ohLAADSiEsAANKISwAA0ohLAADSiEsAANKISwAA0ohLAADSiEsAANKISwAA0ohLAADSiEsAANKISwAA0ohLAADSiEsAANKISwAA0ohLAADSiEsAANKISwAA0ohLAADSiEsAANKISwAA0ohLAADSiEsAANKISwAA0ohLAADSiEsAANKISwAA0ohLAADSiEsAANKISwAA0ohLAADSiEsAANKISwAA0ohLAADSiEsAANKISwAA0ohLAADSiEsAANKISwAA0ohLAADSiEsAANKISwAA0ohLAADSiEsAANKISwAA0ohLAADSiEsAANKISwAA0ohLAADSiEsAANKISwAA0ohLAADSiEsAANKISwAA0ohLAADSiEsAANKISwAA0ohLAADSiEsAANKISwAA0ohLAADSiEsAANKISwAA0ohLAADSiEsAANKISwAA0ohLAADSiEsAANKISwAA0ohLAADSiEsAANKISwAA0ohLAADSiEsAANKISwAA0ohLAADSiEsAANKISwAA0ohLAADSiEsAANKISwAA0hSKxWKx1ENERKx64+1SjwCQqt/h55d6BIBU65+c9L7HuHIJAEAacQkAQBpxCQBAGnEJAEAacQkAQBpxCQBAGnEJAEAacQkAQBpxCQBAGnEJAEAacQkAQBpxCQBAGnEJAEAacQkAQBpxCQBAGnEJAEAacQkAQBpxCQBAGnEJAEAacQkAQBpxCQBAGnEJAEAacQkAQBpxCQBAGnEJAEAacQkAQBpxCQBAGnEJAEAacQkAQBpxCQBAGnEJAEAacQkAQBpxCQBAGnEJAEAacQkAQBpxCQBAGnEJAEAacQkAQBpxCQBAGnEJAEAacQkAQBpxCQBAGnEJAEAacQkAQBpxCQBAGnEJAEAacQkAQBpxCQBAGnEJAEAacQkAQBpxCQBAGnEJAEAacQkAQBpxCQBAGnEJAEAacQkAQBpxCQBAGnEJAEAacQkAQBpxCQBAGnEJAEAacQkAQBpxCQBAGnEJAEAacQkAQBpxCQBAGnEJAEAacQkAQBpxCQBAGnEJAEAacQkAQBpxCQBAGnEJAEAacQkAQBpxCQBAGnEJAEAacQkAQBpxCQBAGnEJAEAacQkAQBpxCQBAGnEJAEAacQkAQBpxCQBAGnEJAEAacQkAQBpxCQBAGnEJAEAacQkAQBpxCQBAGnEJAEAacQkAQBpxCQBAGnEJAEAacQkAQBpxCQBAGnEJAEAacQkAQBpxCQBAGnEJAEAacQkAQBpxCQBAGnEJAEAacQkAQBpxCQBAGnEJAEAacQkAQBpxCQBAGnEJAECadqUeALLNnfNE/PKOW+P5+c/GazWr4rIrJ8bhnzq6cX/1azXx79dfHTMf/0vUvfFGDNp/aIy58KLo2+/jJZwa4K8O3X/PGPO1EbH/fv2iV4+KOHXMzfG76U817p901KD4xhcOiyH79otuu3SMqn+eEE+9sKzJOa6/6ItxVNXA6NWjIurW18fj8xbFD677bbzwcvWO/nZoZVy5pMVZv3597LX3wBj7vR9stlcsFmP8uO/Eq8uWxuVXXR+3/cdvorKyd5z/ra/H+vVvlmBagM113Kk8nn5hWZw/YeoW93feqSz+MvfF+MHEe9/zHE/OXxKjfnRnDP7cj2PktyZHoVCI39/w7WjTprCdpoZ3uHJJi3PwocPj4EOHb3FvyeJX4pmn58Uvpv429thzr4iIGDf+hzHy2CPi4QfvjxNP/sKOHBVgix567Nl46LFn33P/rj/MioiIfr12fc9jbr37scb/Xrx8dVwy+Xcx69f/Gh/v3S0WLa3JGxb+hiuXtCoNDW9FRER5eVnjWps2baKsrCyemjunVGMBbFc7dyiLr408KBYtrYmlK9aUehxaOHFJq/Lx/rtHz8peceOka6O2dm00NLwVd94+JVZWr4jXalaVejyAVKNOGR6rHrsqXptxdRxz6H5xwjmTouHtjaUeixYuPS6XLFkSZ5111laPqa+vj9ra2iZf9fX12aPAZtq1ax8/ueK6WLL45Tj+qENixGHDYs7smXHQIcOj0MbfWkDL8qs/zoqDvnR5jPj6NbFg8aq486dnRXmZd8SxfaX/33T16tXx85//fKvHTJgwISoqKpp8XXfVT7NHgS3aZ99/iNt/eXc8MP3xuPeB6XH19TfH2rWvR+8+Hyv1aACpaus2xIuLV8Vjc16ML4+bEgN37xknHTWo1GPRwjX7z5f77rtvq/svvfTS+55j/PjxMXbs2CZrtW+1be4o8KF06tQ5It75kM/z85+JfzlndIknAth+CoVCFKIQZe1duWT7avZP2MknnxyFQiGKxeJ7HlMobP02B+Xl5VFeXt5krf6Nt5s7CmzRm2+ui2VLFjc+Xr5saSx4fn50rqiIysre8V8PPxi77NI1elb2ipcWLojrrpoQw484Kg486NASTg3wVx13Kos9+/ZofNy/T7f45IA+sab2zViyYk107bJz9K3sGr12q4iIiAH9e0ZERPVrtVH92hvRv0+3+MKxQ2PajPlRs6Yu+vTcJS4485hYX98QD/75mZJ8T7QeheLWKnEL+vTpEzfccEOcdNJJW9yfO3duDB06NDZubN4bhleJS5LMeWJmfOfsMzdb/8xnT4qLfnRZ/Oev7oy77rgtVr9WE92694jjThgZZ3zj7GjfvmwLZ4Nt1+/w80s9Ah9Rw4fuHQ9NOW+z9TvuezxGXXxnfPXEqrjl0tM22//xjffHT266P3r1qIgbfvjlGLJv3+jaZedY+dob8ec5C+Oym/8YC15ZuSO+BVqo9U9Oet9jmh2XI0eOjMGDB8ell166xf158+bFkCFDYtOmTc05rbgEWhxxCbQ0HyQum/2y+IUXXhjr1q17z/299torHnnkkeaeFgCAFqDZcTl8+Jb/5ZN3dezYMY444ohtHggAgI8uN/YDACCNuAQAII24BAAgjbgEACCNuAQAII24BAAgjbgEACCNuAQAII24BAAgjbgEACCNuAQAII24BAAgjbgEACCNuAQAII24BAAgjbgEACCNuAQAII24BAAgjbgEACCNuAQAII24BAAgjbgEACCNuAQAII24BAAgjbgEACCNuAQAII24BAAgjbgEACCNuAQAII24BAAgjbgEACCNuAQAII24BAAgjbgEACCNuAQAII24BAAgjbgEACCNuAQAII24BAAgjbgEACCNuAQAII24BAAgjbgEACCNuAQAII24BAAgjbgEACCNuAQAII24BAAgjbgEACCNuAQAII24BAAgjbgEACCNuAQAII24BAAgjbgEACCNuAQAII24BAAgjbgEACCNuAQAII24BAAgjbgEACCNuAQAII24BAAgjbgEACCNuAQAII24BAAgjbgEACCNuAQAII24BAAgjbgEACCNuAQAII24BAAgjbgEACCNuAQAII24BAAgjbgEACCNuAQAII24BAAgjbgEACCNuAQAII24BAAgjbgEACCNuAQAII24BAAgjbgEACCNuAQAII24BAAgjbgEACCNuAQAII24BAAgjbgEACCNuAQAII24BAAgjbgEACCNuAQAII24BAAgjbgEACCNuAQAII24BAAgjbgEACCNuAQAII24BAAgjbgEACCNuAQAII24BAAgjbgEACCNuAQAII24BAAgTaFYLBZLPQTsKPX19TFhwoQYP358lJeXl3ocgA/N7zX+3ohLWpXa2tqoqKiItWvXRpcuXUo9DsCH5vcaf2+8LA4AQBpxCQBAGnEJAEAacUmrUl5eHhdffLE3vQMtht9r/L3xgR4AANK4cgkAQBpxCQBAGnEJAEAacQkAQBpxCQBAGnFJqzF58uTo379/dOjQIaqqqmLmzJmlHglgmz366KNx4oknRu/evaNQKMS9995b6pEgIsQlrcTUqVNj7NixcfHFF8ecOXNi0KBBceyxx8bKlStLPRrANlm3bl0MGjQoJk+eXOpRoAn3uaRVqKqqigMOOCAmTZoUERGbNm2Kvn37xujRo+P73/9+iacD+HAKhULcc889cfLJJ5d6FHDlkpbvrbfeitmzZ8eIESMa19q0aRMjRoyIGTNmlHAyAGh5xCUtXk1NTWzcuDF69uzZZL1nz56xYsWKEk0FAC2TuAQAII24pMXr3r17tG3bNqqrq5usV1dXR2VlZYmmAoCWSVzS4pWVlcXQoUNj2rRpjWubNm2KadOmxcEHH1zCyQCg5WlX6gFgRxg7dmycfvrpMWzYsDjwwAPj2muvjXXr1sWZZ55Z6tEAtkldXV0sXLiw8fGiRYti7ty5seuuu0a/fv1KOBmtnVsR0WpMmjQprrjiilixYkUMHjw4Jk6cGFVVVaUeC2CbTJ8+PY488sjN1k8//fS4/fbbd/xA8P/EJQAAabznEgCANOISAIA04hIAgDTiEgCANOISAIA04hIAgDTiEgCANOISAIA04hIAgDTiEgCANOISAIA0/wfkMfXaUq1vOQAAAABJRU5ErkJggg==)\n",
        "\n",
        "\n",
        "|              | precision | recall | f1-score | support |\n",
        "|--------------|-----------|--------|----------|---------|\n",
        "|           0 | 0.82      | 0.88   | 0.85     | 98      |\n",
        "|           1 | 0.90      | 0.86   | 0.88     | 132     |\n",
        "|    accuracy   |           |        | 0.87     | 230     |\n",
        "|   macro avg  | 0.86      | 0.87   | 0.86     | 230     |\n",
        "| weighted avg | 0.87      | 0.87   | 0.87     | 230     |\n",
        "\n",
        "* Dataset Heart_ds_big (319,795 registros, desbalanceado):\n",
        "\n",
        "- Inicialmente, con el dataset desbalanceado, el modelo también mostró una alta precisión (accuracy) del 91%. Sin embargo, al analizar el F1-score se observó un rendimiento mucho menor para la clase minoritaria (clase 1, con enfermedad) con un valor de solo 0.16. Esto se debe al desbalanceo, el modelo se enfoca en predecir la clase mayoritaria para obtener una alta precisión general.\n",
        "![CM_BIG_1.png](data:image/png;base64,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)\n",
        "\n",
        "\n",
        "|              | precision | recall | f1-score | support |\n",
        "|--------------|-----------|--------|----------|---------|\n",
        "|           0 | 0.92      | 0.99   | 0.95     | 73004   |\n",
        "|           1 | 0.54      | 0.10   | 0.16     | 6945    |\n",
        "|    accuracy   |           |        | 0.91     | 79949   |\n",
        "|   macro avg  | 0.73      | 0.54   | 0.56     | 79949   |\n",
        "| weighted avg | 0.89      | 0.91   | 0.89     | 79949   |\n",
        "\n"
      ],
      "metadata": {
        "id": "xcz4XIKJzTQO"
      }
    },
    {
      "cell_type": "markdown",
      "source": [
        "###7.2.1. Balanceo del dataset Heart_ds_big\n",
        "\n",
        "El conjunto de datos más grande, 'Heart_ds_big', se balancea utilizando submuestreo para abordar el desequilibrio de clases.\n",
        "\n",
        "**Resultado de la regressión Logistica con el dataset Heart_ds_balanceado**\n",
        "\n",
        "Al balancear el dataset mediante undersampling, la precisión general disminuyó a 76%, pero el F1-score para ambas clases se equilibró, alcanzando valores de 0.76 para la clase 0 y 0.77 para la clase 1. Esto significa que el modelo balanceado es más efectivo para detectar casos de enfermedad cardíaca, aunque su precisión global sea ligeramente menor.\n",
        "\n",
        "![CM_BIG_BALANCED_1.png](data:image/png;base64,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)\n",
        "\n",
        "\n",
        "|              | precision | recall | f1-score | support |\n",
        "|--------------|-----------|--------|----------|---------|\n",
        "|           0 | 0.77      | 0.75   | 0.76     | 6825    |\n",
        "|           1 | 0.76      | 0.77   | 0.77     | 6862    |\n",
        "|    accuracy   |           |        | 0.76     | 13687   |\n",
        "|   macro avg  | 0.76      | 0.76   | 0.76     | 13687   |\n",
        "| weighted avg | 0.76      | 0.76   | 0.76     | 13687   |"
      ],
      "metadata": {
        "id": "EYO00d1wz_fM"
      }
    },
    {
      "cell_type": "markdown",
      "source": [
        "## 7.2. Entrenamiento y evaluación con el Modelo de red neuronal (clasificador MLP)"
      ],
      "metadata": {
        "id": "172YtUwP0ydl"
      }
    },
    {
      "cell_type": "markdown",
      "source": [
        "Se entrena y evalúa un clasificador MLP de forma similar al modelo de regresión logística.\n",
        "\n",
        "**Resultados del Clasificador MLP (Red Neuronal):**\n",
        "\n",
        "* Los resultados del clasificador MLP fueron similares a los de la Regresión Logística en términos de precisión general y capacidad para detectar la clase minoritaria.\n",
        "\n",
        "* Con el dataset Heart_ds balanceado, el clasificador MLP logró una precisión del 85%.\n",
        "\n",
        "\n",
        "|              | precision | recall | f1-score | support |\n",
        "|--------------|-----------|--------|----------|---------|\n",
        "|           0 | 0.86      | 0.85   | 0.86     | 98      |\n",
        "|           1 | 0.89      | 0.90   | 0.89     | 132     |\n",
        "|    accuracy   |           |        | 0.88     | 230     |\n",
        "|   macro avg  | 0.88      | 0.87   | 0.88     | 230     |\n",
        "| weighted avg | 0.88      | 0.88   | 0.88     | 230     |\n",
        "\n",
        "* Con el dataset Heart_ds_big balanceado, la precisión fue del 76%.\n",
        "\n",
        "|              | precision | recall | f1-score | support |\n",
        "|--------------|-----------|--------|----------|---------|\n",
        "|           0 | 0.79      | 0.71   | 0.75     | 6825    |\n",
        "|           1 | 0.74      | 0.81   | 0.77     | 6862    |\n",
        "|    accuracy   |           |        | 0.76     | 13687   |\n",
        "|   macro avg  | 0.76      | 0.76   | 0.76     | 13687   |\n",
        "| weighted avg | 0.76      | 0.76   | 0.76     | 13687   |\n",
        "\n"
      ],
      "metadata": {
        "id": "yUmsU2d-090A"
      }
    },
    {
      "cell_type": "markdown",
      "source": [
        "## 7.3. Entrenamiento y evaluación con la red neuronal manual (tf.keras.Sequential)"
      ],
      "metadata": {
        "id": "ysWFvtFd1SeT"
      }
    },
    {
      "cell_type": "markdown",
      "source": [
        "Luego se creo una red neuronal uusando TensorFlow/Keras con con tres capas ocultas mas las de entrada y salida, con 100 epocas.\n",
        "\n",
        "**Rendimiento de la Red Neuronal con Heart_ds y Heart_ds_big_balancead**\n",
        "\n",
        "* Para Heart_ds, la red neuronal logró una precisión de entre 85-87%, con una matriz de confusión que reflejó un buen balance entre verdaderos positivos y negativos. La curva ROC mostró un buen desempeño en la discriminación de clases, mientras que el histograma de errores indicó predicciones precisas en general.\n",
        "\n",
        "|              | precision | recall | f1-score | support |\n",
        "|--------------|-----------|--------|----------|---------|\n",
        "|           0 | 0.84      | 0.86   | 0.85     | 98      |\n",
        "|           1 | 0.89      | 0.88   | 0.89     | 132     |\n",
        "|    accuracy   |           |        | 0.87     | 230     |\n",
        "|   macro avg  | 0.87      | 0.87   | 0.87     | 230     |\n",
        "| weighted avg | 0.87      | 0.87   | 0.87     | 230     |\n",
        "\n",
        "\n",
        "* Con Heart_ds_big_balanceado, el modelo alcanzó una precisión del 75%. La matriz de confusión y el reporte de clasificación evidenciaron un rendimiento equilibrado entre las clases, aunque con algunos errores residuales. La curva ROC y el histograma de errores confirmaron una capacidad razonable para predecir ambos casos con un buen ajuste general.\n",
        "\n",
        "|              | precision | recall | f1-score | support |\n",
        "|--------------|-----------|--------|----------|---------|\n",
        "|           0 | 0.77      | 0.74   | 0.75     | 6825    |\n",
        "|           1 | 0.75      | 0.78   | 0.76     | 6862    |\n",
        "|    accuracy   |           |        | 0.76     | 13687   |\n",
        "|   macro avg  | 0.76      | 0.76   | 0.76     | 13687   |\n",
        "| weighted avg | 0.76      | 0.76   | 0.76     | 13687   |"
      ],
      "metadata": {
        "id": "3bTkUvIw1dPJ"
      }
    },
    {
      "cell_type": "markdown",
      "source": [
        "# 8.Conclusiones"
      ],
      "metadata": {
        "id": "O-l7VpzXwVCi"
      }
    },
    {
      "cell_type": "markdown",
      "source": [
        "Este proyecto exploró la aplicación de modelos de Machine Learning para el diagnóstico de enfermedades cardíacas, utilizando dos datasets de características contrastantes: uno pequeño y balanceado (Heart_ds) con 918 registros y otro grande y desbalanceado (Heart_ds_big) con 319,795 registros. Durante el análisis inicial, se evidenció que Heart_ds presentaba una ligera diferencia de 100 registros entre las clases binarias, mientras que Heart_ds_big mostraba un desbalanceo significativo con una diferencia de aproximadamente 270,000 registros, lo que impactó notablemente el rendimiento de los modelos, especialmente en la predicción de la clase minoritaria.\n",
        "\n",
        "En la primera etapa del proyecto, se utilizó el modelo de Regresión Logística. En Heart_ds, el modelo logró una precisión del 87%, con un buen equilibrio en el f1-score entre las clases (0.85 para la clase 0 y 0.88 para la clase 1). Sin embargo, en Heart_ds_big, aunque la precisión global alcanzó el 91%, el rendimiento para la clase minoritaria fue extremadamente bajo, con un f1-score de solo 0.16, lo que evidenció un sobreajuste hacia la clase mayoritaria. Para abordar este problema, se aplicó un balanceo de clases mediante undersampling, lo que permitió obtener un rendimiento más equilibrado, con un f1-score de 0.75 para ambas clases y una precisión general del 76%. Aunque el rendimiento de la clase mayoritaria disminuyó, el resultado fue más representativo y útil para los objetivos del proyecto.\n",
        "\n",
        "En busca de mejorar las métricas obtenidas, se implementaron redes neuronales. Primero, se probó con un modelo MLPClassifier, que en Heart_ds mostró resultados similares a los de la Regresión Logística, con una precisión del 86% y un f1-score equilibrado. En el dataset balanceado Heart_ds_big, el modelo alcanzó una precisión del 76%, manteniendo un f1-score cercano a 0.76 para ambas clases. Posteriormente, se construyó una red neuronal personalizada con tres capas ocultas y 100 épocas de entrenamiento utilizando tf.keras.Sequential, obteniendo métricas comparables a las del MLPClassifier.\n",
        "\n",
        "En conclusión, los modelos de clasificación utilizados demostraron ser herramientas eficaces para apoyar el diagnóstico de enfermedades cardíacas, logrando un rendimiento general aceptable con margen de mejora. El análisis destacó la importancia de abordar problemas como el desbalanceo de clases, ya que afectaron significativamente el rendimiento de los modelos, especialmente en datasets grandes como Heart_ds_big. Aunque los resultados obtenidos no superaron consistentemente el umbral de 0.90, son suficientes para contribuir a la detección temprana y prevención de enfermedades cardiovasculares. Mejorar la calidad de los datos y experimentar con arquitecturas más complejas podría optimizar aún más el desempeño de los modelos, pero este proyecto es un buen inicio realizado con los conocimientos obtenidos en este BootCamp de Inteligencia artificial."
      ],
      "metadata": {
        "id": "pHj0twauwWyA"
      }
    },
    {
      "cell_type": "markdown",
      "source": [
        "# 9. Bibliografía"
      ],
      "metadata": {
        "id": "LQLF18Lc6_LK"
      }
    },
    {
      "cell_type": "markdown",
      "source": [
        " * Heart Disease Dataset. (2024a, abril 8). Kaggle. https://www.kaggle.com/datasets/mexwell/heart-disease-dataset/data  \n",
        "\n",
        " * Caesarmario. (2023, 28 abril). 💕💔Listen to Your Heart: A Disease Prediction🔮. Kaggle. https://www.kaggle.com/code/caesarmario/listen-to-your-heart-a-disease-prediction\n",
        "\n",
        " * Carter, D. S. A. S. (s. f.). Tensorflow — Neural Network playground. https://playground.tensorflow.org/#activation=linear&batchSize=10&dataset=circle®Dataset=reg-plane&learningRate=0.03®ularizationRate=0&noise=0&networkShape=8,5,2&seed=0.34586&showTestData=false&discretize=false&percTrainData=80&x=true&y=true&xTimesY=false&xSquared=true&ySquared=true&cosX=false&sinX=false&cosY=false&sinY=false&collectStats=false&problem=regression&initZero=false&hideText=false\n",
        "\n",
        " * Heart 2020. (2024, 1 febrero). Kaggle. https://www.kaggle.com/datasets/opeyemiawe/heart-2020\n",
        "\n",
        " * López, F. J. B. (s. f.). Capítulo 8 Regresión logística binaria | Apuntes de estadística. https://www.bioestadistica.uma.es/apuntesMaster/regresi%C3%B3n-log%C3%ADstica-binaria.html\n",
        "\n",
        " * SPSS Statistics Subscription - early access. (s. f.). https://www.ibm.com/docs/es/spss-statistics/beta?topic=regression-binary-logistic"
      ],
      "metadata": {
        "id": "N4alEXQ88Rps"
      }
    }
  ]
}
